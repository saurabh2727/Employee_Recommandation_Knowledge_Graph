{
 "cells": [
  {
   "cell_type": "markdown",
   "metadata": {
    "deletable": true,
    "editable": true,
    "toc": true
   },
   "source": [
    "<h1>Table of Contents<span class=\"tocSkip\"></span></h1>\n",
    "<div class=\"toc\"><ul class=\"toc-item\"><li><span><a href=\"#Introduction\" data-toc-modified-id=\"Introduction-1\"><span class=\"toc-item-num\">1&nbsp;&nbsp;</span>Introduction</a></span></li><li><span><a href=\"#Data-pre-processing\" data-toc-modified-id=\"Data-pre-processing-2\"><span class=\"toc-item-num\">2&nbsp;&nbsp;</span>Data pre-processing</a></span></li><li><span><a href=\"#Extracting-University-Name\" data-toc-modified-id=\"Extracting-University-Name-3\"><span class=\"toc-item-num\">3&nbsp;&nbsp;</span>Extracting University Name</a></span></li><li><span><a href=\"#Extracting-Degree-Type\" data-toc-modified-id=\"Extracting-Degree-Type-4\"><span class=\"toc-item-num\">4&nbsp;&nbsp;</span>Extracting Degree Type</a></span></li><li><span><a href=\"#Extracting-Degree-Level\" data-toc-modified-id=\"Extracting-Degree-Level-5\"><span class=\"toc-item-num\">5&nbsp;&nbsp;</span>Extracting Degree Level</a></span></li><li><span><a href=\"#Extracting-Skills\" data-toc-modified-id=\"Extracting-Skills-6\"><span class=\"toc-item-num\">6&nbsp;&nbsp;</span>Extracting Skills</a></span></li><li><span><a href=\"#Merging-all-the-processed-fields\" data-toc-modified-id=\"Merging-all-the-processed-fields-7\"><span class=\"toc-item-num\">7&nbsp;&nbsp;</span>Merging all the processed fields</a></span></li><li><span><a href=\"#Constructing-Knowledge-Graph\" data-toc-modified-id=\"Constructing-Knowledge-Graph-8\"><span class=\"toc-item-num\">8&nbsp;&nbsp;</span>Constructing Knowledge Graph</a></span></li><li><span><a href=\"#Knowledge-Graph-for-SKills\" data-toc-modified-id=\"Knowledge-Graph-for-SKills-9\"><span class=\"toc-item-num\">9&nbsp;&nbsp;</span>Knowledge Graph for SKills</a></span></li><li><span><a href=\"#Knowledge-Graph-for-University\" data-toc-modified-id=\"Knowledge-Graph-for-University-10\"><span class=\"toc-item-num\">10&nbsp;&nbsp;</span>Knowledge Graph for University</a></span></li><li><span><a href=\"#Knowledge-Graph-for-Degree-Level\" data-toc-modified-id=\"Knowledge-Graph-for-Degree-Level-11\"><span class=\"toc-item-num\">11&nbsp;&nbsp;</span>Knowledge Graph for Degree Level</a></span></li><li><span><a href=\"#Knowledge-Graph-for-degree-Type\" data-toc-modified-id=\"Knowledge-Graph-for-degree-Type-12\"><span class=\"toc-item-num\">12&nbsp;&nbsp;</span>Knowledge Graph for degree Type</a></span></li><li><span><a href=\"#Final-Knowledge-Graph\" data-toc-modified-id=\"Final-Knowledge-Graph-13\"><span class=\"toc-item-num\">13&nbsp;&nbsp;</span>Final Knowledge Graph</a></span></li><li><span><a href=\"#Recommendation\" data-toc-modified-id=\"Recommendation-14\"><span class=\"toc-item-num\">14&nbsp;&nbsp;</span>Recommendation</a></span></li><li><span><a href=\"#Model-Performance-by-Manual-Inspection\" data-toc-modified-id=\"Model-Performance-by-Manual-Inspection-15\"><span class=\"toc-item-num\">15&nbsp;&nbsp;</span>Model Performance by Manual Inspection</a></span></li><li><span><a href=\"#Final-Words\" data-toc-modified-id=\"Final-Words-16\"><span class=\"toc-item-num\">16&nbsp;&nbsp;</span>Final Words</a></span></li></ul></div>"
   ]
  },
  {
   "cell_type": "markdown",
   "metadata": {
    "deletable": true,
    "editable": true
   },
   "source": [
    "# Introduction"
   ]
  },
  {
   "cell_type": "markdown",
   "metadata": {
    "deletable": true,
    "editable": true
   },
   "source": [
    "The objective of this project is to build a recommender system, which is based on the knowledge graph. The database contains fields from candidates' resumes and having information about their skills, education institute, level of education etc. and from this information we will create four fields for the knowledge graph which are 'University','Degree Type', 'Degree Level' and 'Skills'. Once these fields are processed, to feed into the graph, a similarity matrix is going to be prepared. The recommender system will be able to suggest the 'top n' matches for the given candidate ID. The pre-processing of the provided dataset will be done using pandas and spacy library, then the graph will be constructed with 'networkx' and finally similarity between the candidates will be calculated with 'SimiRank algorithm'. At the end we can also manually inspect the level of similarity of the recommended candidates with the given candidate. "
   ]
  },
  {
   "cell_type": "code",
   "execution_count": 1,
   "metadata": {
    "collapsed": true,
    "deletable": true,
    "editable": true
   },
   "outputs": [],
   "source": [
    "import timeit\n",
    "start_time = timeit.default_timer()"
   ]
  },
  {
   "cell_type": "code",
   "execution_count": 2,
   "metadata": {
    "collapsed": false,
    "deletable": true,
    "editable": true
   },
   "outputs": [
    {
     "ename": "ImportError",
     "evalue": "No module named 'spacy'",
     "output_type": "error",
     "traceback": [
      "\u001b[1;31m---------------------------------------------------------------------------\u001b[0m",
      "\u001b[1;31mImportError\u001b[0m                               Traceback (most recent call last)",
      "\u001b[1;32m<ipython-input-2-fea98f4a9a45>\u001b[0m in \u001b[0;36m<module>\u001b[1;34m\u001b[0m\n\u001b[0;32m      4\u001b[0m \u001b[1;32mimport\u001b[0m \u001b[0mpandas\u001b[0m \u001b[1;32mas\u001b[0m \u001b[0mpd\u001b[0m\u001b[1;33m\u001b[0m\u001b[0m\n\u001b[0;32m      5\u001b[0m \u001b[1;32mimport\u001b[0m \u001b[0mjson\u001b[0m\u001b[1;33m\u001b[0m\u001b[0m\n\u001b[1;32m----> 6\u001b[1;33m \u001b[1;32mimport\u001b[0m \u001b[0mspacy\u001b[0m\u001b[1;33m\u001b[0m\u001b[0m\n\u001b[0m\u001b[0;32m      7\u001b[0m \u001b[1;32mimport\u001b[0m \u001b[0mnetworkx\u001b[0m \u001b[1;32mas\u001b[0m \u001b[0mnx\u001b[0m\u001b[1;33m\u001b[0m\u001b[0m\n\u001b[0;32m      8\u001b[0m \u001b[1;32mfrom\u001b[0m \u001b[0mspacy\u001b[0m\u001b[1;33m.\u001b[0m\u001b[0mlang\u001b[0m\u001b[1;33m.\u001b[0m\u001b[0men\u001b[0m \u001b[1;32mimport\u001b[0m \u001b[0mEnglish\u001b[0m\u001b[1;33m\u001b[0m\u001b[0m\n",
      "\u001b[1;31mImportError\u001b[0m: No module named 'spacy'"
     ]
    }
   ],
   "source": [
    "import sys\n",
    "import os\n",
    "import numpy as np\n",
    "import pandas as pd\n",
    "import json\n",
    "import spacy\n",
    "import networkx as nx\n",
    "from spacy.lang.en import English\n",
    "import matplotlib.pyplot as plt\n",
    "%matplotlib inline"
   ]
  },
  {
   "cell_type": "code",
   "execution_count": null,
   "metadata": {
    "collapsed": false,
    "deletable": true,
    "editable": true
   },
   "outputs": [],
   "source": [
    "os.getcwd()"
   ]
  },
  {
   "cell_type": "code",
   "execution_count": null,
   "metadata": {
    "collapsed": false,
    "deletable": true,
    "editable": true
   },
   "outputs": [],
   "source": [
    "sys.version"
   ]
  },
  {
   "cell_type": "code",
   "execution_count": null,
   "metadata": {
    "collapsed": true,
    "deletable": true,
    "editable": true
   },
   "outputs": [],
   "source": [
    "os.chdir('C:/Users/saurabh/Desktop/Knowledge Graph')"
   ]
  },
  {
   "cell_type": "code",
   "execution_count": null,
   "metadata": {
    "collapsed": true,
    "deletable": true,
    "editable": true
   },
   "outputs": [],
   "source": [
    "dataframe= pd.read_json(\"Filtered01.json\")"
   ]
  },
  {
   "cell_type": "code",
   "execution_count": null,
   "metadata": {
    "collapsed": true,
    "deletable": true,
    "editable": true
   },
   "outputs": [],
   "source": [
    "df = pd.read_json(dataframe['structuredLayout'].to_json(), orient=\"index\")"
   ]
  },
  {
   "cell_type": "markdown",
   "metadata": {
    "deletable": true,
    "editable": true
   },
   "source": [
    "# Data pre-processing"
   ]
  },
  {
   "cell_type": "code",
   "execution_count": null,
   "metadata": {
    "collapsed": true,
    "deletable": true,
    "editable": true
   },
   "outputs": [],
   "source": [
    "df['Details']=df.Details.astype(str)"
   ]
  },
  {
   "cell_type": "code",
   "execution_count": null,
   "metadata": {
    "collapsed": true,
    "deletable": true,
    "editable": true
   },
   "outputs": [],
   "source": [
    "df.drop(['Extracurricular','Interests', 'Profile', 'Reference', 'Skills','Experience'], inplace=True, axis = 1)"
   ]
  },
  {
   "cell_type": "markdown",
   "metadata": {
    "deletable": true,
    "editable": true
   },
   "source": [
    "# Extracting University Name"
   ]
  },
  {
   "cell_type": "code",
   "execution_count": null,
   "metadata": {
    "collapsed": true,
    "deletable": true,
    "editable": true
   },
   "outputs": [],
   "source": [
    "df['University'] = dataframe['universties']\n",
    "df['Skills'] = dataframe['skillsCluster']\n",
    "df['Degree'] = dataframe['degrees']"
   ]
  },
  {
   "cell_type": "markdown",
   "metadata": {
    "deletable": true,
    "editable": true
   },
   "source": [
    "Copy the university column along with the index into a new dataframe"
   ]
  },
  {
   "cell_type": "code",
   "execution_count": null,
   "metadata": {
    "collapsed": true,
    "deletable": true,
    "editable": true
   },
   "outputs": [],
   "source": [
    "uni_list = []\n",
    "for index, uni in df['University'].iteritems():\n",
    "    for u in uni.keys():\n",
    "        temp = [index, u]\n",
    "        uni_list.append(temp)\n",
    "\n",
    "df_uni = pd.DataFrame(uni_list, columns = ['index', 'University'])    "
   ]
  },
  {
   "cell_type": "code",
   "execution_count": null,
   "metadata": {
    "collapsed": true,
    "deletable": true,
    "editable": true
   },
   "outputs": [],
   "source": [
    "df.drop(['University'], inplace=True, axis = 1)"
   ]
  },
  {
   "cell_type": "markdown",
   "metadata": {
    "deletable": true,
    "editable": true
   },
   "source": [
    "In the original dataframe the universities are already arranged in the order of universities ranking and we are going to take just the first value (highest ranking uni), so creating a new column 'Match', which has the value False if the value in the index column repeats otherwise True."
   ]
  },
  {
   "cell_type": "code",
   "execution_count": null,
   "metadata": {
    "collapsed": true,
    "deletable": true,
    "editable": true
   },
   "outputs": [],
   "source": [
    "df_uni[\"Match\"]= df_uni[\"index\"] == df_uni.shift()[\"index\"]"
   ]
  },
  {
   "cell_type": "markdown",
   "metadata": {
    "deletable": true,
    "editable": true
   },
   "source": [
    "Drop all the rows where value of the 'match' is true"
   ]
  },
  {
   "cell_type": "code",
   "execution_count": null,
   "metadata": {
    "collapsed": true,
    "deletable": true,
    "editable": true
   },
   "outputs": [],
   "source": [
    "df_uni.drop(df_uni[df_uni.Match == True].index, inplace=True)   "
   ]
  },
  {
   "cell_type": "markdown",
   "metadata": {
    "deletable": true,
    "editable": true
   },
   "source": [
    "Reset the index of original dataframe, to create a new column called 'index', so that the above dataframe created with universities can be merged with it, then joined these two dataframes on the common column 'index' and finally set the datframe's index as 'index'(column) as we do not require this column anymore"
   ]
  },
  {
   "cell_type": "code",
   "execution_count": null,
   "metadata": {
    "collapsed": true,
    "deletable": true,
    "editable": true
   },
   "outputs": [],
   "source": [
    "df.reset_index()\n",
    "df_2 = df.join(df_uni.set_index('index'))"
   ]
  },
  {
   "cell_type": "markdown",
   "metadata": {
    "deletable": true,
    "editable": true
   },
   "source": [
    "Drop the original university column as we are done with extracting the universities from the candidate's profile, along with the column 'match'"
   ]
  },
  {
   "cell_type": "code",
   "execution_count": null,
   "metadata": {
    "collapsed": true,
    "deletable": true,
    "editable": true
   },
   "outputs": [],
   "source": [
    "df_2.drop(['Match'], inplace= True, axis = 1)"
   ]
  },
  {
   "cell_type": "markdown",
   "metadata": {
    "deletable": true,
    "editable": true
   },
   "source": [
    "# Extracting Degree Type"
   ]
  },
  {
   "cell_type": "markdown",
   "metadata": {
    "deletable": true,
    "editable": true
   },
   "source": [
    "The following code is to extract the degree level and the degree type of the candidate. Worth mentioning here that the first two words of the string have already been extracted, so the following 'for' loop stores that extracted part along with index. We will combine the dataframe with the main dataframe at the end, before passing it to graph"
   ]
  },
  {
   "cell_type": "code",
   "execution_count": null,
   "metadata": {
    "collapsed": true,
    "deletable": true,
    "editable": true
   },
   "outputs": [],
   "source": [
    "degrees = []\n",
    "for i,j in df_2['Degree'].iteritems():\n",
    "    for k,l in j:\n",
    "        temp = [i,l, k]\n",
    "        degrees.append(temp)        \n",
    "df_deg = pd.DataFrame(degrees, columns = ['index','type', 'level'])"
   ]
  },
  {
   "cell_type": "code",
   "execution_count": null,
   "metadata": {
    "collapsed": true,
    "deletable": true,
    "editable": true
   },
   "outputs": [],
   "source": [
    "# Clean the text\n",
    "import re\n",
    "\n",
    "def clean_text(text):\n",
    "    text = text.replace('\\n', ' ')                # remove newline\n",
    "    text = text.replace('/', ' ')                 # remove forward slashes\n",
    "    text = re.sub(r'[^a-zA-Z ^0-9]', '', str(text)) # letters and numbers only\n",
    "    text = text.lower()                           # lower case\n",
    "    text = re.sub(r'(x.[0-9])', '', text)         # remove special characters\n",
    "    return text"
   ]
  },
  {
   "cell_type": "markdown",
   "metadata": {
    "deletable": true,
    "editable": true
   },
   "source": [
    "Apply the function clean_text() to the column 'type'"
   ]
  },
  {
   "cell_type": "code",
   "execution_count": null,
   "metadata": {
    "collapsed": true,
    "deletable": true,
    "editable": true
   },
   "outputs": [],
   "source": [
    "df_deg['type'] = df_deg.apply(lambda x: clean_text(x['type']), axis=1)"
   ]
  },
  {
   "cell_type": "markdown",
   "metadata": {
    "deletable": true,
    "editable": true
   },
   "source": [
    "In the following part,each sentence gets seperated into individual token, so that the type of the degree can be extracted"
   ]
  },
  {
   "cell_type": "code",
   "execution_count": null,
   "metadata": {
    "collapsed": true,
    "deletable": true,
    "editable": true
   },
   "outputs": [],
   "source": [
    "# Initialize the tokenizer\n",
    "from spacy.tokenizer import Tokenizer\n",
    "nlp = spacy.load(\"en_core_web_sm\")\n",
    "tokenizer = Tokenizer(nlp.vocab)"
   ]
  },
  {
   "cell_type": "markdown",
   "metadata": {
    "deletable": true,
    "editable": true
   },
   "source": [
    "the for loop reads the datapoints row-wise and checking if the token is not empty and then storing the extected token in a list called 'tokens'"
   ]
  },
  {
   "cell_type": "code",
   "execution_count": null,
   "metadata": {
    "collapsed": true,
    "deletable": true,
    "editable": true
   },
   "outputs": [],
   "source": [
    "tokens = []\n",
    "for doc in tokenizer.pipe(df_deg['type'], batch_size=500):\n",
    "    doc_tokens = []\n",
    "    for token in doc:\n",
    "        if (token.text != ' '):\n",
    "            doc_tokens.append(token.text)\n",
    "    tokens.append(doc_tokens)"
   ]
  },
  {
   "cell_type": "markdown",
   "metadata": {
    "deletable": true,
    "editable": true
   },
   "source": [
    "Create a new column with the stored tokens"
   ]
  },
  {
   "cell_type": "code",
   "execution_count": null,
   "metadata": {
    "collapsed": true,
    "deletable": true,
    "editable": true
   },
   "outputs": [],
   "source": [
    "df_deg['token_type'] = tokens"
   ]
  },
  {
   "cell_type": "code",
   "execution_count": null,
   "metadata": {
    "collapsed": false,
    "deletable": true,
    "editable": true
   },
   "outputs": [],
   "source": [
    "df_deg['token_type'].head(20)"
   ]
  },
  {
   "cell_type": "markdown",
   "metadata": {
    "deletable": true,
    "editable": true
   },
   "source": [
    "In order to extract tokens efficiently, its important to select the correct index in the most meaningful way and it can be observed from the above cell output that its hard to find a rule in terms of index but, position 2 and 3 gives the type of the degree in most of the cases, however, its important to keep in mind, not to extract too many tokens as later on, it will be passed to the graph and each degree type will act as individual node"
   ]
  },
  {
   "cell_type": "code",
   "execution_count": null,
   "metadata": {
    "collapsed": true,
    "deletable": true,
    "editable": true
   },
   "outputs": [],
   "source": [
    "df_deg['token_type_selected'] = [i[2:4] for i in df_deg['token_type']] "
   ]
  },
  {
   "cell_type": "markdown",
   "metadata": {
    "deletable": true,
    "editable": true
   },
   "source": [
    "After extracting the tokens at specific indexes, there are still few tokens, which are not meaningful and it is required to standardize the degree type; the following list contains all the potential degree types, which later will be compared with each extracted token followed by creating a new column if there is a match"
   ]
  },
  {
   "cell_type": "code",
   "execution_count": null,
   "metadata": {
    "collapsed": true,
    "deletable": true,
    "editable": true
   },
   "outputs": [],
   "source": [
    "# Degree type list\n",
    "degree_type = ['computer','data','science', 'information', 'technology', 'architecture', \n",
    "                 'management','electrical','business', 'administration', 'engineering'\n",
    "                 'analytics', 'application','computing', 'digital','marketing',\n",
    "                 'food','beverage', 'chemistry', 'health','statistics',\n",
    "                 'analysis', 'mechanical', 'accounting','mathematics','electronics',\n",
    "                 'telecommunication','property', 'marine','electronics', 'chemical', 'business',\n",
    "              'construction', 'arts', 'law', 'legal', 'network','digital','media','security',\n",
    "              'education', 'project','system', 'anthropology', 'sociology', 'design',\n",
    "              'aviation', 'state','economics', 'physics', 'design','industrial', 'human', \n",
    "              'network','archinformation','commerce','psychology','software', 'translation']"
   ]
  },
  {
   "cell_type": "code",
   "execution_count": null,
   "metadata": {
    "collapsed": true,
    "deletable": true,
    "editable": true
   },
   "outputs": [],
   "source": [
    "df_deg['type'] = df_deg.apply(lambda x: list(set(x['token_type_selected']) & set(degree_type)), axis=1)"
   ]
  },
  {
   "cell_type": "markdown",
   "metadata": {
    "deletable": true,
    "editable": true
   },
   "source": [
    "The new created column has lists in each row and the following code convert each row items to a string, which is required to treat them as an individual node"
   ]
  },
  {
   "cell_type": "code",
   "execution_count": null,
   "metadata": {
    "collapsed": true,
    "deletable": true,
    "editable": true
   },
   "outputs": [],
   "source": [
    "df_deg['type'] = [' '.join(str(x) for x in i) for i in df_deg['type']]     "
   ]
  },
  {
   "cell_type": "markdown",
   "metadata": {
    "deletable": true,
    "editable": true
   },
   "source": [
    "# Extracting Degree Level"
   ]
  },
  {
   "cell_type": "markdown",
   "metadata": {
    "deletable": true,
    "editable": true
   },
   "source": [
    "In the degree dataframe, there are few versions of the same degrees like bachelor has been mentioned as bechelors in, bachelors of, bachelors etc, and similarly for masters and diploma, so the following function will match the first three letters and if, it is 'bac' then we convert the entire string to bachelors, if 'mas' then masters and if 'dip' then diploma and None in all other cases. Before applying the function to the dataframe we will convert it to string, so that we can perform string operation(matching string)"
   ]
  },
  {
   "cell_type": "code",
   "execution_count": null,
   "metadata": {
    "collapsed": true,
    "deletable": true,
    "editable": true
   },
   "outputs": [],
   "source": [
    "def process_degree(s):\n",
    "    if 'bac' in s:\n",
    "        s = s[:s.rindex('bac')] + 'bachelor'\n",
    "    elif 'mas' in s:\n",
    "        s = s[:s.rindex('mas')] + 'master'\n",
    "    elif 'dip' in s:\n",
    "        s =  s[:s.rindex('dip')] + 'diploma'\n",
    "    else:\n",
    "        s= None\n",
    "    return s    "
   ]
  },
  {
   "cell_type": "code",
   "execution_count": null,
   "metadata": {
    "collapsed": true,
    "deletable": true,
    "editable": true
   },
   "outputs": [],
   "source": [
    "df_deg['level'] = df_deg['level'].apply(str)    \n",
    "df_deg['level'] = df_deg.apply(lambda x: process_degree(x['level']), axis=1)"
   ]
  },
  {
   "cell_type": "markdown",
   "metadata": {
    "deletable": true,
    "editable": true
   },
   "source": [
    "Finally drop the unnecessary columns"
   ]
  },
  {
   "cell_type": "code",
   "execution_count": null,
   "metadata": {
    "collapsed": true,
    "deletable": true,
    "editable": true
   },
   "outputs": [],
   "source": [
    "df_2.drop(['Degree'], inplace= True, axis = 1)\n",
    "df_2.drop(['Education'], inplace=True, axis = 1)\n",
    "df_deg.drop(['token_type'], inplace= True, axis = 1)\n",
    "df_deg.drop(['token_type_selected'], inplace= True, axis = 1)"
   ]
  },
  {
   "cell_type": "markdown",
   "metadata": {
    "deletable": true,
    "editable": true
   },
   "source": [
    "# Extracting Skills"
   ]
  },
  {
   "cell_type": "markdown",
   "metadata": {
    "deletable": true,
    "editable": true
   },
   "source": [
    "The following list contains all the potential technical skills, which later will be compared with each extracted token followed by creating a new column if there is a match"
   ]
  },
  {
   "cell_type": "code",
   "execution_count": null,
   "metadata": {
    "collapsed": true,
    "deletable": true,
    "editable": true
   },
   "outputs": [],
   "source": [
    "# Tech terms list\n",
    "tech_terms = ['python', 'r', 'sql', 'hadoop', 'spark', 'java', 'sas', 'tableau','mysql',\n",
    "              'hive', 'scala', 'aws', 'c', 'c++', 'matlab', 'tensorflow', 'excel','angular',\n",
    "              'nosql', 'linux', 'azure', 'scikit', 'machine learning', 'statistic',\n",
    "              'analysis', 'computer science', 'visual', 'ai','artificial intelligence', 'deep learning','mongodb',\n",
    "              'nlp', 'natural language processing', 'neural network', 'mathematic',\n",
    "              'database', 'oop', 'blockchain','cloud', 'bootstrap', 'unix','agile',\n",
    "              'html', 'css', 'javascript', 'jquery', 'git', 'photoshop', 'illustrator',\n",
    "              'word press', 'seo', 'responsive design', 'php', 'mobile', 'design', 'react',\n",
    "              'security', 'ruby', 'fireworks', 'json', 'node', 'express', 'redux', 'ajax',\n",
    "              'java', 'api','ios','big data','php','adobe','assembly','wireframe','couchdb', \n",
    "              'ui prototype', 'ux writing', 'interactive design','iot','ruby on rails',\n",
    "              'metric', 'analytic', 'ux research', 'mockup', 'c#','web development',\n",
    "              'prototype', 'test', 'ideate', 'usability', 'high-fidelity design', 'karma',\n",
    "              'framework','testing', 'xml','oracle','node.js','scrum','uml','database management',\n",
    "              'autocad','swift', 'xcode', 'spatial reasoning', 'human interface', 'core data',\n",
    "              'grand central', 'network', 'objective-c', 'foundation', 'uikit', 'asp.net',\n",
    "              'cocoatouch', 'spritekit', 'scenekit', 'opengl', 'metal','data engineering',\n",
    "              'dreamweaver','statistical analysis','coding','basic','logic','docker',\n",
    "              'ms access','computer vision','html5','sed','abap']"
   ]
  },
  {
   "cell_type": "code",
   "execution_count": null,
   "metadata": {
    "collapsed": true,
    "deletable": true,
    "editable": true
   },
   "outputs": [],
   "source": [
    "df_2['Skills'] = df_2.apply(lambda x: list(set(x['Skills']) & set(tech_terms)), axis=1)"
   ]
  },
  {
   "cell_type": "markdown",
   "metadata": {
    "deletable": true,
    "editable": true
   },
   "source": [
    "The explode function take each item of the list and separate them in individual rows, keeping the same index. We require to do this operation as when we pass the dataframe to graph, we want separate node for each skill."
   ]
  },
  {
   "cell_type": "code",
   "execution_count": null,
   "metadata": {
    "collapsed": true,
    "deletable": true,
    "editable": true
   },
   "outputs": [],
   "source": [
    "df_final = df_2.explode('Skills')"
   ]
  },
  {
   "cell_type": "code",
   "execution_count": null,
   "metadata": {
    "collapsed": true,
    "deletable": true,
    "editable": true
   },
   "outputs": [],
   "source": [
    "df_final['Edge'] =  ['edge'] * len(df_final) "
   ]
  },
  {
   "cell_type": "markdown",
   "metadata": {
    "deletable": true,
    "editable": true
   },
   "source": [
    "Create an index column, which will be used to join the degree dataframe with the final dataframe"
   ]
  },
  {
   "cell_type": "code",
   "execution_count": null,
   "metadata": {
    "collapsed": true,
    "deletable": true,
    "editable": true
   },
   "outputs": [],
   "source": [
    "df_final.reset_index(inplace=True)"
   ]
  },
  {
   "cell_type": "markdown",
   "metadata": {
    "deletable": true,
    "editable": true
   },
   "source": [
    "# Merging all the processed fields "
   ]
  },
  {
   "cell_type": "markdown",
   "metadata": {
    "deletable": true,
    "editable": true
   },
   "source": [
    "The degree dataframe with final dataframe will be merged and will set the left join as we need to use the index column from final dataframe otherwise we get rows only from the degree dataframe and lose rest of the rows"
   ]
  },
  {
   "cell_type": "code",
   "execution_count": null,
   "metadata": {
    "collapsed": true,
    "deletable": true,
    "editable": true
   },
   "outputs": [],
   "source": [
    "df_final = df_final.merge(df_deg, on='index', how='left')"
   ]
  },
  {
   "cell_type": "markdown",
   "metadata": {
    "deletable": true,
    "editable": true
   },
   "source": [
    "In order to enhance the readability of the nodes, few of the strings can be replaced to make them more meaningful"
   ]
  },
  {
   "cell_type": "code",
   "execution_count": null,
   "metadata": {
    "collapsed": true,
    "deletable": true,
    "editable": true
   },
   "outputs": [],
   "source": [
    "df_final['type'] = df_final['type'].replace ({'science computer':'computer science', \n",
    "'technology information':'information technology', 'system computer':'computer system',\n",
    "'application computer':'computer application', 'management project':'project management',\n",
    "'technology electronics':'electronics technology', 'science electrical':'electrical science', \n",
    "'science data':'data science', 'technology computer':'computer technology', \n",
    "'science information':'information science','science computing':'computing science'})"
   ]
  },
  {
   "cell_type": "markdown",
   "metadata": {
    "deletable": true,
    "editable": true
   },
   "source": [
    "while processing degree type, if there is no match empty string has been introduced; which will be lead to nan values, so these values need to be dropped. "
   ]
  },
  {
   "cell_type": "code",
   "execution_count": null,
   "metadata": {
    "collapsed": true,
    "deletable": true,
    "editable": true
   },
   "outputs": [],
   "source": [
    "df_final['type'] = df_final['type'].replace('', np.nan, regex=True)"
   ]
  },
  {
   "cell_type": "markdown",
   "metadata": {
    "deletable": true,
    "editable": true
   },
   "source": [
    "List of all the degree types"
   ]
  },
  {
   "cell_type": "code",
   "execution_count": null,
   "metadata": {
    "collapsed": true,
    "deletable": true,
    "editable": true
   },
   "outputs": [],
   "source": [
    "df_final.drop(['index'], inplace=True, axis = 1)\n",
    "#df_final.dropna(inplace=True)"
   ]
  },
  {
   "cell_type": "markdown",
   "metadata": {
    "deletable": true,
    "editable": true
   },
   "source": [
    "# Constructing Knowledge Graph"
   ]
  },
  {
   "cell_type": "markdown",
   "metadata": {
    "deletable": true,
    "editable": true
   },
   "source": [
    "To build the knowledge graph with columns; Skills, University and Degree, we will first build individual graphs for Skills and University then combine them,then again combine the built graph with the graph for degree and the final graph will have all the fields in it."
   ]
  },
  {
   "cell_type": "markdown",
   "metadata": {},
   "source": [
    "# Knowledge Graph for SKills"
   ]
  },
  {
   "cell_type": "code",
   "execution_count": null,
   "metadata": {
    "collapsed": false,
    "deletable": true,
    "editable": true
   },
   "outputs": [],
   "source": [
    "kg_df = pd.DataFrame({'source' : df_final['Skills'], 'target': df_final['Details'], 'edge':df_final['Edge']})\n",
    "G_skills = nx.from_pandas_edgelist(kg_df, \"source\", \"target\", edge_attr = True, create_using = nx.DiGraph())\n",
    "fig, ax = plt.subplots(figsize=(30, 40), dpi=80)\n",
    "pos = nx.spring_layout(G_skills)\n",
    "nx.draw(G_skills, with_labels=True,node_size= 4500, node_color= 'skyblue', edge_cmap=plt.cm.Blues, pos = pos)\n",
    "plt.show() \n",
    "fig.savefig('skills_KG.png') "
   ]
  },
  {
   "cell_type": "markdown",
   "metadata": {},
   "source": [
    "# Knowledge Graph for University"
   ]
  },
  {
   "cell_type": "code",
   "execution_count": null,
   "metadata": {
    "collapsed": false,
    "deletable": true,
    "editable": true
   },
   "outputs": [],
   "source": [
    "kg_df = pd.DataFrame({'target' : df_final['Details'], 'source': df_final['University'], 'edge':df_final['Edge']})\n",
    "G_uni = nx.from_pandas_edgelist(kg_df, \"source\", \"target\", edge_attr = True, create_using = nx.DiGraph())\n",
    "fig, ax = plt.subplots(figsize=(30, 40), dpi=80)\n",
    "pos = nx.spring_layout(G_uni)\n",
    "nx.draw(G_uni, with_labels=True,node_size= 4500, node_color= 'skyblue', edge_cmap=plt.cm.Blues, pos = pos)\n",
    "plt.show() \n",
    "fig.savefig('uni_KG.png') "
   ]
  },
  {
   "cell_type": "markdown",
   "metadata": {},
   "source": [
    "# Knowledge Graph for Degree Level"
   ]
  },
  {
   "cell_type": "code",
   "execution_count": null,
   "metadata": {
    "collapsed": false,
    "deletable": true,
    "editable": true
   },
   "outputs": [],
   "source": [
    "kg_df = pd.DataFrame({'source' : df_final['level'], 'target': df_final['Details'], 'edge':df_final['Edge']})\n",
    "G_degree_level = nx.from_pandas_edgelist(kg_df, \"source\", \"target\", edge_attr = True, create_using = nx.DiGraph())\n",
    "fig, ax = plt.subplots(figsize=(30, 40), dpi=80)\n",
    "pos = nx.spring_layout(G_degree_level)\n",
    "nx.draw(G_degree_level, with_labels=True,node_size= 4500, node_color= 'skyblue', edge_cmap=plt.cm.Blues, pos = pos)\n",
    "plt.show()\n",
    "fig.savefig('degree_KG.png') "
   ]
  },
  {
   "cell_type": "markdown",
   "metadata": {},
   "source": [
    "# Knowledge Graph for degree Type"
   ]
  },
  {
   "cell_type": "code",
   "execution_count": null,
   "metadata": {
    "collapsed": false,
    "deletable": true,
    "editable": true
   },
   "outputs": [],
   "source": [
    "kg_df = pd.DataFrame({'source' : df_final['type'], 'target': df_final['Details'], 'edge':df_final['Edge']})\n",
    "G_degree_type = nx.from_pandas_edgelist(kg_df, \"source\", \"target\", edge_attr = True, create_using = nx.DiGraph())\n",
    "fig, ax = plt.subplots(figsize=(30, 40), dpi=80)\n",
    "pos = nx.spring_layout(G_degree_type)\n",
    "nx.draw(G_degree_type, with_labels=True,node_size= 4500, node_color= 'skyblue', edge_cmap=plt.cm.Blues, pos = pos)\n",
    "plt.show()\n",
    "fig.savefig('degree_field KG.png') "
   ]
  },
  {
   "cell_type": "markdown",
   "metadata": {
    "deletable": true,
    "editable": true
   },
   "source": [
    "In order to construct the final graph, first we combine graphs of skills and uni and then combine degree and degree_field and finally combine the two combined graph"
   ]
  },
  {
   "cell_type": "code",
   "execution_count": null,
   "metadata": {
    "collapsed": true,
    "deletable": true,
    "editable": true
   },
   "outputs": [],
   "source": [
    "G_combined = nx.compose(G_skills,G_uni)"
   ]
  },
  {
   "cell_type": "code",
   "execution_count": null,
   "metadata": {
    "collapsed": true,
    "deletable": true,
    "editable": true
   },
   "outputs": [],
   "source": [
    "G_combined_2 = nx.compose(G_degree_level,G_degree_type)"
   ]
  },
  {
   "cell_type": "markdown",
   "metadata": {},
   "source": [
    "# Final Knowledge Graph"
   ]
  },
  {
   "cell_type": "code",
   "execution_count": null,
   "metadata": {
    "collapsed": false,
    "deletable": true,
    "editable": true
   },
   "outputs": [],
   "source": [
    "G_final = nx.compose(G_combined,G_combined_2)\n",
    "fig, ax = plt.subplots(figsize=(30, 40), dpi=80)\n",
    "pos = nx.spring_layout(G_final)\n",
    "nx.draw(G_final, with_labels=True,node_size= 4500, node_color= 'skyblue', edge_cmap=plt.cm.Blues, pos = pos)\n",
    "plt.show() \n",
    "fig.savefig('Final_KG.png') "
   ]
  },
  {
   "cell_type": "markdown",
   "metadata": {
    "deletable": true,
    "editable": true
   },
   "source": [
    "# Recommendation"
   ]
  },
  {
   "cell_type": "markdown",
   "metadata": {
    "deletable": true,
    "editable": true
   },
   "source": [
    "To calculate the similarity, we will implement SimiRank algorithm, which basically says that \"two objects are considered to be similar if they are referenced by similar objects.\""
   ]
  },
  {
   "cell_type": "code",
   "execution_count": null,
   "metadata": {
    "collapsed": true,
    "deletable": true,
    "editable": true
   },
   "outputs": [],
   "source": [
    "sim_final = nx.similarity.simrank_similarity(G_final)"
   ]
  },
  {
   "cell_type": "code",
   "execution_count": null,
   "metadata": {
    "collapsed": true,
    "deletable": true,
    "editable": true
   },
   "outputs": [],
   "source": [
    "from heapq import nlargest\n",
    " \n",
    "def find_similarity_final(key, graph):\n",
    "    if key in sim_final:\n",
    "        top3 = nlargest(4,sim_final.get(key), key=sim_final.get(key).__getitem__)\n",
    "        return top3[1:]\n",
    "    else:\n",
    "        return 'key not exist'"
   ]
  },
  {
   "cell_type": "markdown",
   "metadata": {
    "deletable": true,
    "editable": true
   },
   "source": [
    "# Model Performance by Manual Inspection"
   ]
  },
  {
   "cell_type": "code",
   "execution_count": null,
   "metadata": {
    "collapsed": false,
    "deletable": true,
    "editable": true
   },
   "outputs": [],
   "source": [
    "find_similarity_final('1315', G_final)"
   ]
  },
  {
   "cell_type": "markdown",
   "metadata": {
    "deletable": true,
    "editable": true
   },
   "source": [
    "similarity score of all the candidates with given candidate"
   ]
  },
  {
   "cell_type": "code",
   "execution_count": null,
   "metadata": {
    "collapsed": false,
    "deletable": true,
    "editable": true
   },
   "outputs": [],
   "source": [
    "print(sim_final.get(\"1315\").__getitem__('751'))\n",
    "print(sim_final.get(\"1315\").__getitem__('1884'))\n",
    "print(sim_final.get(\"1315\").__getitem__('24'))"
   ]
  },
  {
   "cell_type": "code",
   "execution_count": null,
   "metadata": {
    "collapsed": true,
    "deletable": true,
    "editable": true
   },
   "outputs": [],
   "source": [
    "pd.options.display.max_colwidth = 100"
   ]
  },
  {
   "cell_type": "code",
   "execution_count": null,
   "metadata": {
    "collapsed": true,
    "deletable": true,
    "editable": true
   },
   "outputs": [],
   "source": [
    "df_final['Degree_level']=df_final['level']\n",
    "df_final['Degree_type']=df_final['type']\n",
    "df_final.drop(['level','type'], inplace=True, axis = 1)"
   ]
  },
  {
   "cell_type": "code",
   "execution_count": null,
   "metadata": {
    "collapsed": false,
    "deletable": true,
    "editable": true
   },
   "outputs": [],
   "source": [
    "df_final[df_final['Details'] == '1315']"
   ]
  },
  {
   "cell_type": "code",
   "execution_count": null,
   "metadata": {
    "collapsed": false,
    "deletable": true,
    "editable": true
   },
   "outputs": [],
   "source": [
    "df_final[df_final['Details'] == '751']"
   ]
  },
  {
   "cell_type": "code",
   "execution_count": null,
   "metadata": {
    "collapsed": false,
    "deletable": true,
    "editable": true
   },
   "outputs": [],
   "source": [
    "df_final[df_final['Details'] == '1884']"
   ]
  },
  {
   "cell_type": "code",
   "execution_count": null,
   "metadata": {
    "collapsed": false,
    "deletable": true,
    "editable": true
   },
   "outputs": [],
   "source": [
    "df_final[df_final['Details'] == '24']"
   ]
  },
  {
   "cell_type": "markdown",
   "metadata": {},
   "source": [
    "# Final Words"
   ]
  },
  {
   "cell_type": "markdown",
   "metadata": {},
   "source": [
    "Thus, it can obsevered that the recommended candidates 751, 1884 and 24 have many commonalities with the given candidate 1315. Thus, it can be concluded that the model is performing satisfactorily."
   ]
  },
  {
   "cell_type": "markdown",
   "metadata": {},
   "source": [
    "It can be concluded that the end product is able to recommend candidates as a replacement with similar set of skills. However, there are certainly various limitations as well of the project. First of all, we can still explore other attributes as well like interest, certifications etc, which certainly will improve the accuracy. Using knowledge graph for recommendation has potential to use datapoints which may remain unused or unseen otherwise, thus exploring these attributes in future can be beneficial."
   ]
  },
  {
   "cell_type": "markdown",
   "metadata": {
    "deletable": true,
    "editable": true
   },
   "source": [
    "Time taken for the complete model to run"
   ]
  },
  {
   "cell_type": "code",
   "execution_count": null,
   "metadata": {
    "collapsed": false,
    "deletable": true,
    "editable": true
   },
   "outputs": [],
   "source": [
    "elapsed = timeit.default_timer() - start_time\n",
    "elapsed = \"{:.2f}\".format(elapsed)\n",
    "print(str(elapsed + ' seconds'))"
   ]
  },
  {
   "cell_type": "code",
   "execution_count": null,
   "metadata": {
    "collapsed": true
   },
   "outputs": [],
   "source": []
  }
 ],
 "metadata": {
  "kernelspec": {
   "display_name": "Python 3",
   "language": "python",
   "name": "python3"
  },
  "language_info": {
   "codemirror_mode": {
    "name": "ipython",
    "version": 3
   },
   "file_extension": ".py",
   "mimetype": "text/x-python",
   "name": "python",
   "nbconvert_exporter": "python",
   "pygments_lexer": "ipython3",
   "version": "3.5.2"
  },
  "toc": {
   "base_numbering": 1,
   "nav_menu": {},
   "number_sections": true,
   "sideBar": true,
   "skip_h1_title": false,
   "title_cell": "Table of Contents",
   "title_sidebar": "Contents",
   "toc_cell": true,
   "toc_position": {},
   "toc_section_display": true,
   "toc_window_display": false
  }
 },
 "nbformat": 4,
 "nbformat_minor": 2
}
